{
 "cells": [
  {
   "cell_type": "markdown",
   "id": "ac3f590f",
   "metadata": {},
   "source": [
    "# 시계열(Time Series) 분석\n",
    "* 시계열 자료(time series)\n",
    "    * 년도별 계절별 월별 일별 시 분 초별로 시간의 흐름에 따라 관측된 자료\n",
    "* 시계열자료의 분석 목적:\n",
    "    * 1) (forecast) 미래에 대한 예측\n",
    "    * 2) 시스템 또는 확률과정의 이해와 제어(control)\n",
    "\n",
    "# datetime 오브젝트\n",
    "* 날짜와 시간을 처리하는 등의 다양한 기능을 제공하는 파이썬 라이브러리\n",
    "* 날짜를 처리하는 date 오브젝트\n",
    "* 시간을 처리하는 time 오브젝트\n",
    "* 날짜와 시간을 처리하는 datetime 오브젝트가 포함되어 있다."
   ]
  },
  {
   "cell_type": "code",
   "execution_count": 10,
   "id": "f49a1afa",
   "metadata": {},
   "outputs": [],
   "source": [
    "import seaborn as sns\n",
    "import matplotlib.pyplot as plt\n",
    "import pandas as pd\n",
    "import numpy as np\n",
    "import glob\n",
    "import os\n",
    "import xlrd\n",
    "import warnings\n",
    "from datetime import datetime\n",
    "from numpy import NaN, NAN, nan\n",
    "warnings.filterwarnings(action = 'ignore')\n",
    "from matplotlib import font_manager, rc\n",
    "plt.rcParams['axes.unicode_minus'] = False\n",
    "f_path = \"/Library/Fonts/Arial Unicode.ttf\"\n",
    "font_name = font_manager.FontProperties(fname = f_path).get_name()\n",
    "rc('font', family=font_name)"
   ]
  },
  {
   "cell_type": "code",
   "execution_count": 3,
   "id": "e286e179",
   "metadata": {},
   "outputs": [],
   "source": [
    "#from 모듈 이름  import 모듈 함수\n",
    "from datetime import datetime"
   ]
  },
  {
   "cell_type": "code",
   "execution_count": 4,
   "id": "4e993009",
   "metadata": {},
   "outputs": [
    {
     "name": "stdout",
     "output_type": "stream",
     "text": [
      "2023-06-19 14:06:12.728094\n"
     ]
    }
   ],
   "source": [
    "now1 = datetime.now()\n",
    "print(now1)"
   ]
  },
  {
   "cell_type": "code",
   "execution_count": 5,
   "id": "915dca86",
   "metadata": {},
   "outputs": [
    {
     "name": "stdout",
     "output_type": "stream",
     "text": [
      "2023-06-19 14:06:27.251544\n"
     ]
    }
   ],
   "source": [
    "now2 = datetime.today()\n",
    "print(now2)"
   ]
  },
  {
   "cell_type": "code",
   "execution_count": 7,
   "id": "71c0e6b8",
   "metadata": {},
   "outputs": [
    {
     "name": "stdout",
     "output_type": "stream",
     "text": [
      "2023-06-19 14:07:55.953249\n",
      "1970-01-01 00:00:00\n",
      "1970-12-12 13:24:34\n"
     ]
    }
   ],
   "source": [
    "t1 = datetime.now()\n",
    "t2 = datetime(1970, 1, 1)\n",
    "t3 = datetime(1970, 12, 12, 13, 24, 34)\n",
    "\n",
    "print(t1)\n",
    "print(t2)\n",
    "print(t3)"
   ]
  },
  {
   "cell_type": "code",
   "execution_count": 8,
   "id": "f3d8e87e",
   "metadata": {},
   "outputs": [
    {
     "name": "stdout",
     "output_type": "stream",
     "text": [
      "19527 days, 14:07:55.953249\n",
      "<class 'datetime.timedelta'>\n"
     ]
    }
   ],
   "source": [
    "#날짜와 날짜 사이의 간격\n",
    "# datetime 오브젝트를 사용하는 이유 중 하나는 시간 계산을 할 수 있다.\n",
    "diff1 = t1 - t2\n",
    "print(diff1)\n",
    "print(type(diff1))"
   ]
  },
  {
   "cell_type": "code",
   "execution_count": 9,
   "id": "c54dca83",
   "metadata": {},
   "outputs": [
    {
     "name": "stdout",
     "output_type": "stream",
     "text": [
      "-19528 days, 9:52:04.046751\n",
      "<class 'datetime.timedelta'>\n"
     ]
    }
   ],
   "source": [
    "diff2 = t2 - t1\n",
    "print(diff2)\n",
    "print(type(diff2))"
   ]
  },
  {
   "cell_type": "markdown",
   "id": "dcd3a0a0",
   "metadata": {},
   "source": [
    "# 문자열을 datetime 오브젝트로 변환하기\n",
    "- 시계열 데이터를 문자열로 저장 --> 시간 계산을 할 수 없기 때문에 datetime오브젝트로 변환해야함\n",
    "\n",
    "- to_datetime 메서드를 사용해서 datetime 타입으로 변환"
   ]
  },
  {
   "cell_type": "code",
   "execution_count": 11,
   "id": "cfaea232",
   "metadata": {},
   "outputs": [],
   "source": [
    "ebola = pd.read_csv('../data/country_timeseries.csv')"
   ]
  },
  {
   "cell_type": "code",
   "execution_count": 22,
   "id": "eee6441b",
   "metadata": {},
   "outputs": [
    {
     "name": "stdout",
     "output_type": "stream",
     "text": [
      "<class 'pandas.core.frame.DataFrame'>\n",
      "RangeIndex: 122 entries, 0 to 121\n",
      "Data columns (total 18 columns):\n",
      " #   Column               Non-Null Count  Dtype  \n",
      "---  ------               --------------  -----  \n",
      " 0   Date                 122 non-null    object \n",
      " 1   Day                  122 non-null    int64  \n",
      " 2   Cases_Guinea         93 non-null     float64\n",
      " 3   Cases_Liberia        83 non-null     float64\n",
      " 4   Cases_SierraLeone    87 non-null     float64\n",
      " 5   Cases_Nigeria        38 non-null     float64\n",
      " 6   Cases_Senegal        25 non-null     float64\n",
      " 7   Cases_UnitedStates   18 non-null     float64\n",
      " 8   Cases_Spain          16 non-null     float64\n",
      " 9   Cases_Mali           12 non-null     float64\n",
      " 10  Deaths_Guinea        92 non-null     float64\n",
      " 11  Deaths_Liberia       81 non-null     float64\n",
      " 12  Deaths_SierraLeone   87 non-null     float64\n",
      " 13  Deaths_Nigeria       38 non-null     float64\n",
      " 14  Deaths_Senegal       22 non-null     float64\n",
      " 15  Deaths_UnitedStates  18 non-null     float64\n",
      " 16  Deaths_Spain         16 non-null     float64\n",
      " 17  Deaths_Mali          12 non-null     float64\n",
      "dtypes: float64(16), int64(1), object(1)\n",
      "memory usage: 17.3+ KB\n",
      "None\n"
     ]
    }
   ],
   "source": [
    "print(ebola.info())\n",
    "# date 타입이 오브젝트로 되어 있음"
   ]
  },
  {
   "cell_type": "code",
   "execution_count": 23,
   "id": "aed8c726",
   "metadata": {},
   "outputs": [
    {
     "name": "stdout",
     "output_type": "stream",
     "text": [
      "<class 'pandas.core.frame.DataFrame'>\n",
      "RangeIndex: 122 entries, 0 to 121\n",
      "Data columns (total 19 columns):\n",
      " #   Column               Non-Null Count  Dtype         \n",
      "---  ------               --------------  -----         \n",
      " 0   Date                 122 non-null    object        \n",
      " 1   Day                  122 non-null    int64         \n",
      " 2   Cases_Guinea         93 non-null     float64       \n",
      " 3   Cases_Liberia        83 non-null     float64       \n",
      " 4   Cases_SierraLeone    87 non-null     float64       \n",
      " 5   Cases_Nigeria        38 non-null     float64       \n",
      " 6   Cases_Senegal        25 non-null     float64       \n",
      " 7   Cases_UnitedStates   18 non-null     float64       \n",
      " 8   Cases_Spain          16 non-null     float64       \n",
      " 9   Cases_Mali           12 non-null     float64       \n",
      " 10  Deaths_Guinea        92 non-null     float64       \n",
      " 11  Deaths_Liberia       81 non-null     float64       \n",
      " 12  Deaths_SierraLeone   87 non-null     float64       \n",
      " 13  Deaths_Nigeria       38 non-null     float64       \n",
      " 14  Deaths_Senegal       22 non-null     float64       \n",
      " 15  Deaths_UnitedStates  18 non-null     float64       \n",
      " 16  Deaths_Spain         16 non-null     float64       \n",
      " 17  Deaths_Mali          12 non-null     float64       \n",
      " 18  date_dt              122 non-null    datetime64[ns]\n",
      "dtypes: datetime64[ns](1), float64(16), int64(1), object(1)\n",
      "memory usage: 18.2+ KB\n",
      "None\n"
     ]
    }
   ],
   "source": [
    "ebola['date_dt'] = pd.to_datetime(ebola['Date'])\n",
    "print(ebola.info())"
   ]
  },
  {
   "cell_type": "code",
   "execution_count": 26,
   "id": "fbb9e253",
   "metadata": {},
   "outputs": [
    {
     "name": "stdout",
     "output_type": "stream",
     "text": [
      "  order_day   date_dt1   date_dt2   date_dt3   date_dt4\n",
      "0  01/01/15 2015-01-01 2015-01-01 2001-01-15 2001-01-15\n",
      "1  02/01/15 2015-01-02 2015-02-01 2002-01-15 2001-02-15\n",
      "2  03/01/15 2015-01-03 2015-03-01 2003-01-15 2001-03-15\n",
      "3  05/08/25 2025-08-05 2025-05-08 2005-08-25 2008-05-25\n"
     ]
    }
   ],
   "source": [
    "test_df1 = pd.DataFrame({'order_day' : ['01/01/15', '02/01/15', '03/01/15','05/08/25']})\n",
    "test_df1['date_dt1'] = pd.to_datetime(test_df1['order_day'], format = '%d/%m/%y')  #3번째에 있는걸 year로 적용\n",
    "test_df1['date_dt2'] = pd.to_datetime(test_df1['order_day'], format = '%m/%d/%y')  #3번째에 있는걸 year로 적용\n",
    "test_df1['date_dt3'] = pd.to_datetime(test_df1['order_day'], format = '%y/%m/%d')  #1번째에 있는걸 year로 적용\n",
    "test_df1['date_dt4'] = pd.to_datetime(test_df1['order_day'], format = '%m/%y/%d')  #2번째에 있는걸 year로 적용\n",
    "\n",
    "print(test_df1)"
   ]
  },
  {
   "cell_type": "code",
   "execution_count": 27,
   "id": "6ca3f301",
   "metadata": {},
   "outputs": [
    {
     "name": "stdout",
     "output_type": "stream",
     "text": [
      "  order_day    date_dt\n",
      "0  01-01-15 2015-01-01\n",
      "1  02-01-15 2015-01-02\n",
      "2  03-01-15 2015-01-03\n"
     ]
    }
   ],
   "source": [
    "test_df2 = pd.DataFrame({'order_day' : ['01-01-15', '02-01-15', '03-01-15']})\n",
    "test_df2['date_dt'] = pd.to_datetime(test_df2['order_day'], format = '%d-%m-%y')\n",
    "print(test_df2)"
   ]
  },
  {
   "cell_type": "markdown",
   "id": "d1d3e53a",
   "metadata": {},
   "source": [
    "# 시계열 데이터를 구분해서 추출"
   ]
  },
  {
   "cell_type": "code",
   "execution_count": 28,
   "id": "4f9e61d9",
   "metadata": {},
   "outputs": [
    {
     "name": "stdout",
     "output_type": "stream",
     "text": [
      "2023-06-19 14:27:11.298970\n"
     ]
    }
   ],
   "source": [
    "# now는 정밀한 시간 단위까지 표현 가능\n",
    "\n",
    "now = datetime.now()\n",
    "print(now)"
   ]
  },
  {
   "cell_type": "code",
   "execution_count": 41,
   "id": "2248d1ce",
   "metadata": {},
   "outputs": [
    {
     "name": "stdout",
     "output_type": "stream",
     "text": [
      "2023-06-19\n",
      "<class 'str'>\n"
     ]
    }
   ],
   "source": [
    "nowDate = now.strftime('%Y-%m-%d')\n",
    "print(nowDate)\n",
    "print(type(nowDate))"
   ]
  },
  {
   "cell_type": "code",
   "execution_count": 34,
   "id": "598d9f22",
   "metadata": {},
   "outputs": [
    {
     "name": "stdout",
     "output_type": "stream",
     "text": [
      "14:27:11\n"
     ]
    }
   ],
   "source": [
    "nowTime = now.strftime('%H:%M:%S')\n",
    "print(nowTime)"
   ]
  },
  {
   "cell_type": "code",
   "execution_count": 43,
   "id": "7980703a",
   "metadata": {},
   "outputs": [
    {
     "name": "stdout",
     "output_type": "stream",
     "text": [
      "2023-06-19 14:27:11\n"
     ]
    }
   ],
   "source": [
    "nowTime = now.strftime('%Y-%m-%d %H:%M:%S')\n",
    "print(nowTime)"
   ]
  },
  {
   "cell_type": "code",
   "execution_count": 45,
   "id": "a0e8de14",
   "metadata": {},
   "outputs": [
    {
     "name": "stdout",
     "output_type": "stream",
     "text": [
      "2023-06-19 14:27:11 Monday Mon Jun June\n"
     ]
    }
   ],
   "source": [
    "nowTime = now.strftime('%Y-%m-%d %H:%M:%S %A %a %b %B')\n",
    "print(nowTime)"
   ]
  },
  {
   "cell_type": "markdown",
   "id": "9fdc427d",
   "metadata": {},
   "source": [
    "# datetime 오브젝트로 변환하려는 열을 지정하여 데이터 집합 불러오기\n",
    "\n",
    "- 위에서는 to_datetime 메서드를 사용하여 문자열로 저장된 date열을 datetime 오브젝트로 변환\n",
    "- parse_dates 옵션을 부여하여 문자열을 datetime으로 불러올 수 있다."
   ]
  },
  {
   "cell_type": "code",
   "execution_count": 47,
   "id": "6ea51a1d",
   "metadata": {},
   "outputs": [
    {
     "name": "stdout",
     "output_type": "stream",
     "text": [
      "<class 'pandas.core.frame.DataFrame'>\n",
      "RangeIndex: 122 entries, 0 to 121\n",
      "Data columns (total 18 columns):\n",
      " #   Column               Non-Null Count  Dtype         \n",
      "---  ------               --------------  -----         \n",
      " 0   Date                 122 non-null    datetime64[ns]\n",
      " 1   Day                  122 non-null    int64         \n",
      " 2   Cases_Guinea         93 non-null     float64       \n",
      " 3   Cases_Liberia        83 non-null     float64       \n",
      " 4   Cases_SierraLeone    87 non-null     float64       \n",
      " 5   Cases_Nigeria        38 non-null     float64       \n",
      " 6   Cases_Senegal        25 non-null     float64       \n",
      " 7   Cases_UnitedStates   18 non-null     float64       \n",
      " 8   Cases_Spain          16 non-null     float64       \n",
      " 9   Cases_Mali           12 non-null     float64       \n",
      " 10  Deaths_Guinea        92 non-null     float64       \n",
      " 11  Deaths_Liberia       81 non-null     float64       \n",
      " 12  Deaths_SierraLeone   87 non-null     float64       \n",
      " 13  Deaths_Nigeria       38 non-null     float64       \n",
      " 14  Deaths_Senegal       22 non-null     float64       \n",
      " 15  Deaths_UnitedStates  18 non-null     float64       \n",
      " 16  Deaths_Spain         16 non-null     float64       \n",
      " 17  Deaths_Mali          12 non-null     float64       \n",
      "dtypes: datetime64[ns](1), float64(16), int64(1)\n",
      "memory usage: 17.3 KB\n",
      "None\n"
     ]
    }
   ],
   "source": [
    "ebola = pd.read_csv('../data/country_timeseries.csv', parse_dates = ['Date'])\n",
    "print(ebola.info())\n",
    "\n",
    "# 데이터를 불러올 때 parse_dates를 사용해서 데이터타입을 바로 변경, 적용해 올 수 있다."
   ]
  },
  {
   "cell_type": "markdown",
   "id": "1a7a0638",
   "metadata": {},
   "source": [
    "# datetime 오브젝트에서 날짜 정보 추출하기\n",
    "- datetime 오브젝트에서 년, 월, 일과 같은 날짜 정보가 따로 저장되지 않습니다.\n",
    "- dateimte 오브젝트에서 날짜 정보를 추출"
   ]
  },
  {
   "cell_type": "code",
   "execution_count": 49,
   "id": "c3ae2b98",
   "metadata": {},
   "outputs": [
    {
     "name": "stdout",
     "output_type": "stream",
     "text": [
      "0   2018-05-16\n",
      "1   2018-05-17\n",
      "2   2018-05-18\n",
      "dtype: datetime64[ns]\n"
     ]
    }
   ],
   "source": [
    "date_series = pd.Series(['2018-05-16', '2018-05-17', '2018-05-18'])\n",
    "d1 = pd.to_datetime(date_series)\n",
    "print(d1)"
   ]
  },
  {
   "cell_type": "code",
   "execution_count": 50,
   "id": "d77e23dd",
   "metadata": {},
   "outputs": [
    {
     "name": "stdout",
     "output_type": "stream",
     "text": [
      "2018\n"
     ]
    }
   ],
   "source": [
    "print(d1[0].year)"
   ]
  },
  {
   "cell_type": "code",
   "execution_count": 51,
   "id": "4aa9df32",
   "metadata": {},
   "outputs": [
    {
     "name": "stdout",
     "output_type": "stream",
     "text": [
      "16\n"
     ]
    }
   ],
   "source": [
    "print(d1[0].day)"
   ]
  },
  {
   "cell_type": "code",
   "execution_count": 52,
   "id": "8cd2b893",
   "metadata": {},
   "outputs": [
    {
     "name": "stdout",
     "output_type": "stream",
     "text": [
      "5\n"
     ]
    }
   ],
   "source": [
    "print(d1[0].month)"
   ]
  },
  {
   "cell_type": "markdown",
   "id": "bb278b5e",
   "metadata": {},
   "source": [
    "# dt 접근자로 시계열 데이터 정리하기\n",
    "- datetime 오브젝트는 dt접근자를 사용하면 datetime 속성이나 메소드를 사용하여 시계열 데이터를 처리할 수 있음"
   ]
  },
  {
   "cell_type": "code",
   "execution_count": 53,
   "id": "05bdd7ef",
   "metadata": {},
   "outputs": [
    {
     "name": "stdout",
     "output_type": "stream",
     "text": [
      "         Date    date_dt\n",
      "0    1/5/2015 2015-01-05\n",
      "1    1/4/2015 2015-01-04\n",
      "2    1/3/2015 2015-01-03\n",
      "3    1/2/2015 2015-01-02\n",
      "4  12/31/2014 2014-12-31\n"
     ]
    }
   ],
   "source": [
    "ebola = pd.read_csv('../data/country_timeseries.csv')\n",
    "ebola['date_dt'] = pd.to_datetime(ebola['Date'])\n",
    "print(ebola[['Date', 'date_dt']].head())"
   ]
  },
  {
   "cell_type": "code",
   "execution_count": 61,
   "id": "76ca31dc",
   "metadata": {},
   "outputs": [
    {
     "name": "stdout",
     "output_type": "stream",
     "text": [
      "2015\n"
     ]
    }
   ],
   "source": [
    "print(ebola['date_dt'][3].year)"
   ]
  },
  {
   "cell_type": "code",
   "execution_count": 55,
   "id": "2de38f40",
   "metadata": {},
   "outputs": [
    {
     "name": "stdout",
     "output_type": "stream",
     "text": [
      "1\n"
     ]
    }
   ],
   "source": [
    "print(ebola['date_dt'][3].month)"
   ]
  },
  {
   "cell_type": "code",
   "execution_count": 58,
   "id": "657d1e1e",
   "metadata": {},
   "outputs": [
    {
     "name": "stdout",
     "output_type": "stream",
     "text": [
      "         Date    date_dt  year\n",
      "0    1/5/2015 2015-01-05  2015\n",
      "1    1/4/2015 2015-01-04  2015\n",
      "2    1/3/2015 2015-01-03  2015\n",
      "3    1/2/2015 2015-01-02  2015\n",
      "4  12/31/2014 2014-12-31  2014\n"
     ]
    }
   ],
   "source": [
    "# dt접근자로 date_dt 열에 접근한 다음 year속성을 이용\n",
    "\n",
    "ebola['year'] = ebola['date_dt'].dt.year\n",
    "print(ebola[['Date', 'date_dt', 'year']].head())"
   ]
  },
  {
   "cell_type": "code",
   "execution_count": 59,
   "id": "108d0331",
   "metadata": {},
   "outputs": [
    {
     "name": "stdout",
     "output_type": "stream",
     "text": [
      "         Date    date_dt  year  month  day\n",
      "0    1/5/2015 2015-01-05  2015      1    5\n",
      "1    1/4/2015 2015-01-04  2015      1    4\n",
      "2    1/3/2015 2015-01-03  2015      1    3\n",
      "3    1/2/2015 2015-01-02  2015      1    2\n",
      "4  12/31/2014 2014-12-31  2014     12   31\n"
     ]
    }
   ],
   "source": [
    "ebola['month'], ebola['day'] = (ebola['date_dt'].dt.month, ebola['date_dt'].dt.day)\n",
    "print(ebola[['Date','date_dt', 'year', 'month', 'day']].head())"
   ]
  },
  {
   "cell_type": "markdown",
   "id": "1669ff29",
   "metadata": {},
   "source": [
    "# 에볼라 최초 발병일 계산하기"
   ]
  },
  {
   "cell_type": "code",
   "execution_count": 62,
   "id": "7a826364",
   "metadata": {},
   "outputs": [
    {
     "name": "stdout",
     "output_type": "stream",
     "text": [
      "          Date  Day  Cases_Guinea  Cases_Liberia  Cases_SierraLeone\n",
      "117  3/27/2014    5         103.0            8.0                6.0\n",
      "118  3/26/2014    4          86.0            NaN                NaN\n",
      "119  3/25/2014    3          86.0            NaN                NaN\n",
      "120  3/24/2014    2          86.0            NaN                NaN\n",
      "121  3/22/2014    0          49.0            NaN                NaN\n"
     ]
    }
   ],
   "source": [
    "print(ebola.iloc[-5:, :5])"
   ]
  },
  {
   "cell_type": "code",
   "execution_count": 65,
   "id": "bc8147fa",
   "metadata": {},
   "outputs": [
    {
     "name": "stdout",
     "output_type": "stream",
     "text": [
      "2014-03-22 00:00:00\n",
      "2015-01-05 00:00:00\n",
      "<class 'pandas._libs.tslibs.timestamps.Timestamp'>\n"
     ]
    }
   ],
   "source": [
    "print(ebola['date_dt'].min())\n",
    "print(ebola['date_dt'].max())\n",
    "\n",
    "print(type(ebola['date_dt'].min()))"
   ]
  },
  {
   "cell_type": "code",
   "execution_count": 70,
   "id": "09b917a2",
   "metadata": {},
   "outputs": [
    {
     "name": "stdout",
     "output_type": "stream",
     "text": [
      "         Date  Day outbreak_d\n",
      "0    1/5/2015  289   289 days\n",
      "1    1/4/2015  288   288 days\n",
      "2    1/3/2015  287   287 days\n",
      "3    1/2/2015  286   286 days\n",
      "4  12/31/2014  284   284 days\n"
     ]
    }
   ],
   "source": [
    "ebola['outbreak_d'] = ebola['date_dt'] - ebola['date_dt'].min()\n",
    "print(ebola[['Date', 'Day', 'outbreak_d']].head())"
   ]
  },
  {
   "cell_type": "code",
   "execution_count": 71,
   "id": "a93f8278",
   "metadata": {},
   "outputs": [
    {
     "data": {
      "text/html": [
       "<div>\n",
       "<style scoped>\n",
       "    .dataframe tbody tr th:only-of-type {\n",
       "        vertical-align: middle;\n",
       "    }\n",
       "\n",
       "    .dataframe tbody tr th {\n",
       "        vertical-align: top;\n",
       "    }\n",
       "\n",
       "    .dataframe thead th {\n",
       "        text-align: right;\n",
       "    }\n",
       "</style>\n",
       "<table border=\"1\" class=\"dataframe\">\n",
       "  <thead>\n",
       "    <tr style=\"text-align: right;\">\n",
       "      <th></th>\n",
       "      <th>Date</th>\n",
       "      <th>Day</th>\n",
       "      <th>Cases_Guinea</th>\n",
       "      <th>Cases_Liberia</th>\n",
       "      <th>Cases_SierraLeone</th>\n",
       "      <th>Cases_Nigeria</th>\n",
       "      <th>Cases_Senegal</th>\n",
       "      <th>Cases_UnitedStates</th>\n",
       "      <th>Cases_Spain</th>\n",
       "      <th>Cases_Mali</th>\n",
       "      <th>...</th>\n",
       "      <th>Deaths_Nigeria</th>\n",
       "      <th>Deaths_Senegal</th>\n",
       "      <th>Deaths_UnitedStates</th>\n",
       "      <th>Deaths_Spain</th>\n",
       "      <th>Deaths_Mali</th>\n",
       "      <th>date_dt</th>\n",
       "      <th>year</th>\n",
       "      <th>month</th>\n",
       "      <th>day</th>\n",
       "      <th>outbreak_d</th>\n",
       "    </tr>\n",
       "  </thead>\n",
       "  <tbody>\n",
       "    <tr>\n",
       "      <th>121</th>\n",
       "      <td>3/22/2014</td>\n",
       "      <td>0</td>\n",
       "      <td>49.0</td>\n",
       "      <td>NaN</td>\n",
       "      <td>NaN</td>\n",
       "      <td>NaN</td>\n",
       "      <td>NaN</td>\n",
       "      <td>NaN</td>\n",
       "      <td>NaN</td>\n",
       "      <td>NaN</td>\n",
       "      <td>...</td>\n",
       "      <td>NaN</td>\n",
       "      <td>NaN</td>\n",
       "      <td>NaN</td>\n",
       "      <td>NaN</td>\n",
       "      <td>NaN</td>\n",
       "      <td>2014-03-22</td>\n",
       "      <td>2014</td>\n",
       "      <td>3</td>\n",
       "      <td>22</td>\n",
       "      <td>0 days</td>\n",
       "    </tr>\n",
       "  </tbody>\n",
       "</table>\n",
       "<p>1 rows × 23 columns</p>\n",
       "</div>"
      ],
      "text/plain": [
       "          Date  Day  Cases_Guinea  Cases_Liberia  Cases_SierraLeone  \\\n",
       "121  3/22/2014    0          49.0            NaN                NaN   \n",
       "\n",
       "     Cases_Nigeria  Cases_Senegal  Cases_UnitedStates  Cases_Spain  \\\n",
       "121            NaN            NaN                 NaN          NaN   \n",
       "\n",
       "     Cases_Mali  ...  Deaths_Nigeria  Deaths_Senegal  Deaths_UnitedStates  \\\n",
       "121         NaN  ...             NaN             NaN                  NaN   \n",
       "\n",
       "     Deaths_Spain  Deaths_Mali    date_dt  year  month day  outbreak_d  \n",
       "121           NaN          NaN 2014-03-22  2014      3  22      0 days  \n",
       "\n",
       "[1 rows x 23 columns]"
      ]
     },
     "execution_count": 71,
     "metadata": {},
     "output_type": "execute_result"
    }
   ],
   "source": [
    "ebola[ebola['date_dt'] == ebola['date_dt'].min()]\n",
    "\n",
    "# 에볼라의 최초 발병일이 일어난 행"
   ]
  },
  {
   "cell_type": "markdown",
   "id": "305a9533",
   "metadata": {},
   "source": [
    "# 파산한 은행의 개수 확인하기"
   ]
  },
  {
   "cell_type": "code",
   "execution_count": 73,
   "id": "bdb72729",
   "metadata": {},
   "outputs": [
    {
     "name": "stdout",
     "output_type": "stream",
     "text": [
      "                                           Bank Name         City  ST   CERT  \\\n",
      "0                Washington Federal Bank for Savings      Chicago  IL  30570   \n",
      "1    The Farmers and Merchants State Bank of Argonia      Argonia  KS  17719   \n",
      "2                                Fayette County Bank   Saint Elmo  IL   1802   \n",
      "3  Guaranty Bank, (d/b/a BestBank in Georgia & Mi...    Milwaukee  WI  30003   \n",
      "4                                     First NBC Bank  New Orleans  LA  58302   \n",
      "\n",
      "                 Acquiring Institution Closing Date Updated Date  \n",
      "0                   Royal Savings Bank    15-Dec-17    20-Dec-17  \n",
      "1                          Conway Bank    13-Oct-17    20-Oct-17  \n",
      "2            United Fidelity Bank, fsb    26-May-17    26-Jul-17  \n",
      "3  First-Citizens Bank & Trust Company     5-May-17    26-Jul-17  \n",
      "4                         Whitney Bank    28-Apr-17     5-Dec-17  \n",
      "<class 'pandas.core.frame.DataFrame'>\n",
      "RangeIndex: 555 entries, 0 to 554\n",
      "Data columns (total 7 columns):\n",
      " #   Column                 Non-Null Count  Dtype \n",
      "---  ------                 --------------  ----- \n",
      " 0   Bank Name              555 non-null    object\n",
      " 1   City                   555 non-null    object\n",
      " 2   ST                     555 non-null    object\n",
      " 3   CERT                   555 non-null    int64 \n",
      " 4   Acquiring Institution  555 non-null    object\n",
      " 5   Closing Date           555 non-null    object\n",
      " 6   Updated Date           555 non-null    object\n",
      "dtypes: int64(1), object(6)\n",
      "memory usage: 30.5+ KB\n",
      "None\n"
     ]
    }
   ],
   "source": [
    "banks = pd.read_csv('../data/banklist.csv')\n",
    "print(banks.head())\n",
    "print(banks.info())"
   ]
  },
  {
   "cell_type": "code",
   "execution_count": 74,
   "id": "0dde31c1",
   "metadata": {},
   "outputs": [
    {
     "name": "stdout",
     "output_type": "stream",
     "text": [
      "<class 'pandas.core.frame.DataFrame'>\n",
      "RangeIndex: 555 entries, 0 to 554\n",
      "Data columns (total 7 columns):\n",
      " #   Column                 Non-Null Count  Dtype         \n",
      "---  ------                 --------------  -----         \n",
      " 0   Bank Name              555 non-null    object        \n",
      " 1   City                   555 non-null    object        \n",
      " 2   ST                     555 non-null    object        \n",
      " 3   CERT                   555 non-null    int64         \n",
      " 4   Acquiring Institution  555 non-null    object        \n",
      " 5   Closing Date           555 non-null    datetime64[ns]\n",
      " 6   Updated Date           555 non-null    datetime64[ns]\n",
      "dtypes: datetime64[ns](2), int64(1), object(4)\n",
      "memory usage: 30.5+ KB\n",
      "None\n"
     ]
    }
   ],
   "source": [
    "banks = pd.read_csv('../data/banklist.csv', parse_dates = [5,6])\n",
    "print(banks.info())"
   ]
  },
  {
   "cell_type": "code",
   "execution_count": 78,
   "id": "5ffb1a46",
   "metadata": {},
   "outputs": [
    {
     "data": {
      "text/html": [
       "<div>\n",
       "<style scoped>\n",
       "    .dataframe tbody tr th:only-of-type {\n",
       "        vertical-align: middle;\n",
       "    }\n",
       "\n",
       "    .dataframe tbody tr th {\n",
       "        vertical-align: top;\n",
       "    }\n",
       "\n",
       "    .dataframe thead th {\n",
       "        text-align: right;\n",
       "    }\n",
       "</style>\n",
       "<table border=\"1\" class=\"dataframe\">\n",
       "  <thead>\n",
       "    <tr style=\"text-align: right;\">\n",
       "      <th></th>\n",
       "      <th>Bank Name</th>\n",
       "      <th>City</th>\n",
       "      <th>ST</th>\n",
       "      <th>CERT</th>\n",
       "      <th>Acquiring Institution</th>\n",
       "      <th>Closing Date</th>\n",
       "      <th>Updated Date</th>\n",
       "      <th>closing_quarter</th>\n",
       "      <th>closing_year</th>\n",
       "    </tr>\n",
       "  </thead>\n",
       "  <tbody>\n",
       "    <tr>\n",
       "      <th>0</th>\n",
       "      <td>Washington Federal Bank for Savings</td>\n",
       "      <td>Chicago</td>\n",
       "      <td>IL</td>\n",
       "      <td>30570</td>\n",
       "      <td>Royal Savings Bank</td>\n",
       "      <td>2017-12-15</td>\n",
       "      <td>2017-12-20</td>\n",
       "      <td>4</td>\n",
       "      <td>2017</td>\n",
       "    </tr>\n",
       "    <tr>\n",
       "      <th>1</th>\n",
       "      <td>The Farmers and Merchants State Bank of Argonia</td>\n",
       "      <td>Argonia</td>\n",
       "      <td>KS</td>\n",
       "      <td>17719</td>\n",
       "      <td>Conway Bank</td>\n",
       "      <td>2017-10-13</td>\n",
       "      <td>2017-10-20</td>\n",
       "      <td>4</td>\n",
       "      <td>2017</td>\n",
       "    </tr>\n",
       "    <tr>\n",
       "      <th>2</th>\n",
       "      <td>Fayette County Bank</td>\n",
       "      <td>Saint Elmo</td>\n",
       "      <td>IL</td>\n",
       "      <td>1802</td>\n",
       "      <td>United Fidelity Bank, fsb</td>\n",
       "      <td>2017-05-26</td>\n",
       "      <td>2017-07-26</td>\n",
       "      <td>2</td>\n",
       "      <td>2017</td>\n",
       "    </tr>\n",
       "    <tr>\n",
       "      <th>3</th>\n",
       "      <td>Guaranty Bank, (d/b/a BestBank in Georgia &amp; Mi...</td>\n",
       "      <td>Milwaukee</td>\n",
       "      <td>WI</td>\n",
       "      <td>30003</td>\n",
       "      <td>First-Citizens Bank &amp; Trust Company</td>\n",
       "      <td>2017-05-05</td>\n",
       "      <td>2017-07-26</td>\n",
       "      <td>2</td>\n",
       "      <td>2017</td>\n",
       "    </tr>\n",
       "    <tr>\n",
       "      <th>4</th>\n",
       "      <td>First NBC Bank</td>\n",
       "      <td>New Orleans</td>\n",
       "      <td>LA</td>\n",
       "      <td>58302</td>\n",
       "      <td>Whitney Bank</td>\n",
       "      <td>2017-04-28</td>\n",
       "      <td>2017-12-05</td>\n",
       "      <td>2</td>\n",
       "      <td>2017</td>\n",
       "    </tr>\n",
       "  </tbody>\n",
       "</table>\n",
       "</div>"
      ],
      "text/plain": [
       "                                           Bank Name         City  ST   CERT  \\\n",
       "0                Washington Federal Bank for Savings      Chicago  IL  30570   \n",
       "1    The Farmers and Merchants State Bank of Argonia      Argonia  KS  17719   \n",
       "2                                Fayette County Bank   Saint Elmo  IL   1802   \n",
       "3  Guaranty Bank, (d/b/a BestBank in Georgia & Mi...    Milwaukee  WI  30003   \n",
       "4                                     First NBC Bank  New Orleans  LA  58302   \n",
       "\n",
       "                 Acquiring Institution Closing Date Updated Date  \\\n",
       "0                   Royal Savings Bank   2017-12-15   2017-12-20   \n",
       "1                          Conway Bank   2017-10-13   2017-10-20   \n",
       "2            United Fidelity Bank, fsb   2017-05-26   2017-07-26   \n",
       "3  First-Citizens Bank & Trust Company   2017-05-05   2017-07-26   \n",
       "4                         Whitney Bank   2017-04-28   2017-12-05   \n",
       "\n",
       "   closing_quarter  closing_year  \n",
       "0                4          2017  \n",
       "1                4          2017  \n",
       "2                2          2017  \n",
       "3                2          2017  \n",
       "4                2          2017  "
      ]
     },
     "execution_count": 78,
     "metadata": {},
     "output_type": "execute_result"
    }
   ],
   "source": [
    "banks['closing_quarter'], banks['closing_year'] = (banks['Closing Date'].dt.quarter, banks['Closing Date'].dt.year)\n",
    "\n",
    "banks.head()"
   ]
  },
  {
   "cell_type": "code",
   "execution_count": 77,
   "id": "1795e364",
   "metadata": {},
   "outputs": [
    {
     "name": "stdout",
     "output_type": "stream",
     "text": [
      "closing_year\n",
      "2000      2\n",
      "2001      4\n",
      "2002     11\n",
      "2003      3\n",
      "2004      4\n",
      "2007      3\n",
      "2008     25\n",
      "2009    140\n",
      "2010    157\n",
      "2011     92\n",
      "2012     51\n",
      "2013     24\n",
      "2014     18\n",
      "2015      8\n",
      "2016      5\n",
      "2017      8\n",
      "dtype: int64\n"
     ]
    }
   ],
   "source": [
    "# groupby 메서드를 사용하면 연도별로 파산한 은행의 개수를 구할 수 있다.\n",
    "\n",
    "closing_year = banks.groupby(['closing_year']).size()\n",
    "print(closing_year)"
   ]
  },
  {
   "cell_type": "code",
   "execution_count": 80,
   "id": "745c6267",
   "metadata": {},
   "outputs": [
    {
     "name": "stdout",
     "output_type": "stream",
     "text": [
      "closing_year  closing_quarter\n",
      "2000          4                   2\n",
      "2001          1                   1\n",
      "              2                   1\n",
      "              3                   2\n",
      "2002          1                   6\n",
      "              2                   2\n",
      "              3                   1\n",
      "              4                   2\n",
      "2003          1                   1\n",
      "              2                   1\n",
      "              4                   1\n",
      "2004          1                   3\n",
      "              2                   1\n",
      "2007          1                   1\n",
      "              3                   1\n",
      "              4                   1\n",
      "2008          1                   2\n",
      "              2                   2\n",
      "              3                   9\n",
      "              4                  12\n",
      "2009          1                  21\n",
      "              2                  24\n",
      "              3                  50\n",
      "              4                  45\n",
      "2010          1                  41\n",
      "              2                  45\n",
      "              3                  41\n",
      "              4                  30\n",
      "2011          1                  26\n",
      "              2                  22\n",
      "              3                  26\n",
      "              4                  18\n",
      "2012          1                  16\n",
      "              2                  15\n",
      "              3                  12\n",
      "              4                   8\n",
      "2013          1                   4\n",
      "              2                  12\n",
      "              3                   6\n",
      "              4                   2\n",
      "2014          1                   5\n",
      "              2                   7\n",
      "              3                   2\n",
      "              4                   4\n",
      "2015          1                   4\n",
      "              2                   1\n",
      "              3                   1\n",
      "              4                   2\n",
      "2016          1                   1\n",
      "              2                   2\n",
      "              3                   2\n",
      "2017          1                   3\n",
      "              2                   3\n",
      "              4                   2\n",
      "dtype: int64\n"
     ]
    }
   ],
   "source": [
    "closing_year_q = banks.groupby(['closing_year', 'closing_quarter']).size()\n",
    "print(closing_year_q)"
   ]
  },
  {
   "cell_type": "code",
   "execution_count": 93,
   "id": "7d7846ba",
   "metadata": {},
   "outputs": [
    {
     "data": {
      "image/png": "[encoded data removed]",
      "text/plain": [
       "<Figure size 1600x1000 with 2 Axes>"
      ]
     },
     "metadata": {},
     "output_type": "display_data"
    }
   ],
   "source": [
    "fig, ax = plt.subplots(1,2, figsize = (16,10))\n",
    "closing_year.plot(ax = ax[0])\n",
    "closing_year_q.plot(ax = ax[1])\n",
    "plt.show()"
   ]
  },
  {
   "cell_type": "code",
   "execution_count": null,
   "id": "538c5567",
   "metadata": {},
   "outputs": [],
   "source": []
  }
 ],
 "metadata": {
  "kernelspec": {
   "display_name": "Python 3 (ipykernel)",
   "language": "python",
   "name": "python3"
  },
  "language_info": {
   "codemirror_mode": {
    "name": "ipython",
    "version": 3
   },
   "file_extension": ".py",
   "mimetype": "text/x-python",
   "name": "python",
   "nbconvert_exporter": "python",
   "pygments_lexer": "ipython3",
   "version": "3.10.9"
  }
 },
 "nbformat": 4,
 "nbformat_minor": 5
}
